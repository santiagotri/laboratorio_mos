{
 "cells": [
  {
   "cell_type": "code",
   "execution_count": null,
   "id": "300c4b79",
   "metadata": {},
   "outputs": [],
   "source": [
    "from pyomo.environ import *\n",
    "from pyomo.opt import SolverFactory"
   ]
  },
  {
   "cell_type": "code",
   "execution_count": null,
   "id": "b1bcedb6",
   "metadata": {},
   "outputs": [],
   "source": [
    "Model = ConcreteModel()\n",
    "\n",
    "numCanciones = 8\n",
    "numLados = 2\n",
    "\n",
    "C = RangeSet(1,numCanciones)\n",
    "L = RangeSet(1, numLados)\n",
    "\n",
    "d = {}\n",
    "d[1]=4\n",
    "d[2]=5\n",
    "d[3]=3\n",
    "d[4]=2\n",
    "d[5]=4\n",
    "d[6]=3\n",
    "d[7]=5\n",
    "d[8]=4\n",
    "\n",
    "## G_1j Representa si la cancion j es de genero Blues\n",
    "## G_2j Representa si la cancion j es de genero Rock\n",
    "G = {(1,1) : 1,(2,1) : 0,\\\n",
    "     (1,2) : 0,(2,2) : 1,\\\n",
    "     (1,3) : 1,(2,3) : 0,\\\n",
    "     (1,4) : 0,(2,4) : 1,\\\n",
    "     (1,5) : 1,(2,5) : 0,\\\n",
    "     (1,6) : 0,(2,6) : 1,\\\n",
    "     (1,7) : 0,(2,7) : 0,\\\n",
    "     (1,8) : 1,(2,8) : 1 }\n",
    "\n",
    "##X_ij Representa si la cancion j se encuentra en el lado i\n",
    "Model.x = Var(L,C, domain= Binary)"
   ]
  },
  {
   "cell_type": "code",
   "execution_count": null,
   "id": "92488fc8",
   "metadata": {},
   "outputs": [],
   "source": [
    "Model.obj = Objective(expr = sum( Model.x[1,j] * d[j] for j in C))"
   ]
  },
  {
   "cell_type": "code",
   "execution_count": null,
   "id": "d0c5199d",
   "metadata": {},
   "outputs": [],
   "source": [
    "##Cada cancion esta en un solo lado\n",
    "Model.res1 = ConstraintList()\n",
    "for j in C:\n",
    "    Model.res1.add(sum(Model.x[i,j] for i in L)==1)"
   ]
  },
  {
   "cell_type": "code",
   "execution_count": null,
   "id": "5d13c9da",
   "metadata": {},
   "outputs": [],
   "source": [
    "##Las canciones de cada lado del cassette deben durar en total entre 14 y 16\n",
    "Model.res2 = ConstraintList()\n",
    "for i in L:\n",
    "    Model.res2.add(sum(Model.x[i,j] * d[j] for j in C)>=14)\n",
    "    Model.res2.add(sum(Model.x[i,j] * d[j] for j in C)<=16)"
   ]
  },
  {
   "cell_type": "code",
   "execution_count": null,
   "id": "26ff85b5",
   "metadata": {},
   "outputs": [],
   "source": [
    "##Cada lado debe tener exactamente 2 canciones de Blues.\n",
    "Model.res3 = ConstraintList()\n",
    "for i in L:\n",
    "    Model.res3.add(sum(Model.x[i,j] * G[1,j] for j in C) == 2)"
   ]
  },
  {
   "cell_type": "code",
   "execution_count": null,
   "id": "5aa14015",
   "metadata": {},
   "outputs": [],
   "source": [
    "##El lado A debe tener al menos 3 canciones tipo Rock and Roll.\n",
    "Model.res4 = Constraint( expr = sum(Model.x[1,j] * G[2,j] for j in C)==3)"
   ]
  },
  {
   "cell_type": "code",
   "execution_count": null,
   "id": "df07c3f2",
   "metadata": {},
   "outputs": [],
   "source": [
    "##Si la canción 1 está en el lado A, la canción 5 no debe estar en el lado A.\n",
    "Model.res5 = Constraint(expr = 1- Model.x[1,5] >= Model.x[1,1])"
   ]
  },
  {
   "cell_type": "code",
   "execution_count": null,
   "id": "0690a6c8",
   "metadata": {},
   "outputs": [],
   "source": [
    "##Si la canción 2 y 4 están en el lado A, entonces la canción 1 debe estar en el lado B.\n",
    "Model.res6 = Constraint(expr = 2- Model.x[1,1] >= Model.x[1,2]+Model.x[1,4])"
   ]
  },
  {
   "cell_type": "code",
   "execution_count": null,
   "id": "713adbd9",
   "metadata": {
    "scrolled": true
   },
   "outputs": [],
   "source": [
    "SolverFactory('glpk').solve(Model)\n",
    "Model.display()"
   ]
  },
  {
   "cell_type": "code",
   "execution_count": null,
   "id": "24c7de8f",
   "metadata": {},
   "outputs": [],
   "source": []
  }
 ],
 "metadata": {
  "kernelspec": {
   "display_name": "Python 3 (ipykernel)",
   "language": "python",
   "name": "python3"
  },
  "language_info": {
   "codemirror_mode": {
    "name": "ipython",
    "version": 3
   },
   "file_extension": ".py",
   "mimetype": "text/x-python",
   "name": "python",
   "nbconvert_exporter": "python",
   "pygments_lexer": "ipython3",
   "version": "3.9.7"
  }
 },
 "nbformat": 4,
 "nbformat_minor": 5
}
