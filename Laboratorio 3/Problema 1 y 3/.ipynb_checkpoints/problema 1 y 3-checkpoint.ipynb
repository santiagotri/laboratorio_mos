{
 "cells": [
  {
   "cell_type": "markdown",
   "id": "37de31fc",
   "metadata": {},
   "source": [
    "# Punto 1 laboratorio 3\n",
    "Este es el punto 1 del laboratorio 3. Por:\n",
    "- Santiago Triana 201923265\n",
    "- Gabriel Beltran 201921903\n",
    "\n",
    "Importación de librerias usadas en la solución"
   ]
  },
  {
   "cell_type": "code",
   "execution_count": 1,
   "id": "96a706c4",
   "metadata": {
    "ExecuteTime": {
     "end_time": "2022-04-07T05:28:38.848310Z",
     "start_time": "2022-04-07T05:28:38.019024Z"
    }
   },
   "outputs": [],
   "source": [
    "from pyomo.opt import SolverFactory\n",
    "from pyomo.environ import *"
   ]
  },
  {
   "cell_type": "markdown",
   "id": "6e9b01ea",
   "metadata": {},
   "source": [
    "## Creación del modelo"
   ]
  },
  {
   "cell_type": "code",
   "execution_count": 2,
   "id": "d856b116",
   "metadata": {
    "ExecuteTime": {
     "end_time": "2022-04-07T05:28:38.851467Z",
     "start_time": "2022-04-07T05:28:38.849521Z"
    }
   },
   "outputs": [],
   "source": [
    "Model = ConcreteModel()"
   ]
  },
  {
   "cell_type": "markdown",
   "id": "6b923dbc",
   "metadata": {},
   "source": [
    "## Conjuntos"
   ]
  },
  {
   "cell_type": "markdown",
   "id": "95df61bf",
   "metadata": {},
   "source": [
    "Despues de crear el modelo creamos el conjunto I, que es el conjunto de los nodos posibles que son modelados en el problema planteado"
   ]
  },
  {
   "cell_type": "code",
   "execution_count": 3,
   "id": "61f7013d",
   "metadata": {
    "ExecuteTime": {
     "end_time": "2022-04-07T05:28:38.854312Z",
     "start_time": "2022-04-07T05:28:38.852432Z"
    }
   },
   "outputs": [],
   "source": [
    "Model.I = RangeSet(1,7)"
   ]
  },
  {
   "cell_type": "markdown",
   "id": "bfab36ea",
   "metadata": {},
   "source": [
    "## Parametros y variables"
   ]
  },
  {
   "cell_type": "markdown",
   "id": "8dddb15d",
   "metadata": {},
   "source": [
    "Se plantean 3 parametros **(x,y,c)** y una variable binaria **d**."
   ]
  },
  {
   "cell_type": "code",
   "execution_count": 4,
   "id": "687aa315",
   "metadata": {
    "ExecuteTime": {
     "end_time": "2022-04-07T05:28:38.862857Z",
     "start_time": "2022-04-07T05:28:38.856011Z"
    }
   },
   "outputs": [
    {
     "name": "stdout",
     "output_type": "stream",
     "text": [
      "c : Size=49, Index=c_index, Domain=Any, Default=None, Mutable=True\n",
      "    Key    : Value\n",
      "    (1, 1) :    999\n",
      "    (1, 2) :  5.385\n",
      "    (1, 3) : 11.705\n",
      "    (1, 4) :    999\n",
      "    (1, 5) :  4.123\n",
      "    (1, 6) :  9.849\n",
      "    (1, 7) :  8.485\n",
      "    (2, 1) :  5.385\n",
      "    (2, 2) :    999\n",
      "    (2, 3) : 13.038\n",
      "    (2, 4) :    999\n",
      "    (2, 5) :  9.055\n",
      "    (2, 6) :  7.071\n",
      "    (2, 7) : 13.601\n",
      "    (3, 1) : 11.705\n",
      "    (3, 2) : 13.038\n",
      "    (3, 3) :    999\n",
      "    (3, 4) :    999\n",
      "    (3, 5) : 14.422\n",
      "    (3, 6) :   20.0\n",
      "    (3, 7) :  11.18\n",
      "    (4, 1) :    999\n",
      "    (4, 2) :    999\n",
      "    (4, 3) :    999\n",
      "    (4, 4) :    999\n",
      "    (4, 5) :    999\n",
      "    (4, 6) :    999\n",
      "    (4, 7) : 17.029\n",
      "    (5, 1) :  4.123\n",
      "    (5, 2) :  9.055\n",
      "    (5, 3) : 14.422\n",
      "    (5, 4) :    999\n",
      "    (5, 5) :    999\n",
      "    (5, 6) : 11.314\n",
      "    (5, 7) :   7.28\n",
      "    (6, 1) :  9.849\n",
      "    (6, 2) :  7.071\n",
      "    (6, 3) :   20.0\n",
      "    (6, 4) :    999\n",
      "    (6, 5) : 11.314\n",
      "    (6, 6) :    999\n",
      "    (6, 7) : 18.028\n",
      "    (7, 1) :  8.485\n",
      "    (7, 2) : 13.601\n",
      "    (7, 3) :  11.18\n",
      "    (7, 4) : 17.029\n",
      "    (7, 5) :   7.28\n",
      "    (7, 6) : 18.028\n",
      "    (7, 7) :    999\n",
      "None\n"
     ]
    }
   ],
   "source": [
    "# valor de la coordenada del nodo i en el eje X\n",
    "Model.x=[20, 22, 9, 3, 21, 29, 14 ]\n",
    "\n",
    "# valor de la coordenada del nodo i en el eje Y\n",
    "Model.y=[6, 1, 2, 25, 10, 2, 12]\n",
    "\n",
    "Model.c = Param(Model.I, Model.I, mutable=True)\n",
    "\n",
    "Model.d = Var(Model.I, Model.I, domain=NonNegativeReals)\n",
    "\n",
    "for i in Model.I:\n",
    "    for j in Model.I:\n",
    "        temp = ((Model.x[i-1]-Model.x[j-1])**2+(Model.y[i-1]-Model.y[j-1])**2)**(0.5)\n",
    "        # tabla que modela los costos desde un nodo a otro\n",
    "        if temp>20 or j==i:\n",
    "            Model.c[i,j] = 999\n",
    "        else:\n",
    "            Model.c[i,j] = round(temp, 3)\n",
    "        # Indica si el camino desde i hasta j ha sido escogido.\n",
    "        Model.d[i,j] = 0\n",
    "\n",
    "print(Model.c.display())"
   ]
  },
  {
   "cell_type": "markdown",
   "id": "096e7794",
   "metadata": {},
   "source": [
    "## Función Objetivo"
   ]
  },
  {
   "cell_type": "code",
   "execution_count": 5,
   "id": "32535017",
   "metadata": {
    "ExecuteTime": {
     "end_time": "2022-04-07T05:28:38.866138Z",
     "start_time": "2022-04-07T05:28:38.863754Z"
    }
   },
   "outputs": [],
   "source": [
    "Model.obj = Objective(expr=sum( Model.c[i,j]*Model.d[i,j] for i in Model.I for j in Model.I) , sense=minimize)"
   ]
  },
  {
   "cell_type": "markdown",
   "id": "a1c6a4ba",
   "metadata": {},
   "source": [
    "## Restricciones"
   ]
  },
  {
   "cell_type": "markdown",
   "id": "c7e28a16",
   "metadata": {},
   "source": [
    "Se plantean 3 restricciones;\n",
    "\n",
    "- *nodoOrigen:* verifica que el nodo origen si sea el origen\n",
    "- *nodoDestino:* verifica que el nodo destino si sea el destino\n",
    "- *nodoIntermedio:* verifica que todo lo que entre a este nodo tiene que salir por lo que no seran nodos destino ni origen"
   ]
  },
  {
   "cell_type": "code",
   "execution_count": 6,
   "id": "364b5dc2",
   "metadata": {
    "ExecuteTime": {
     "end_time": "2022-04-07T05:28:38.871309Z",
     "start_time": "2022-04-07T05:28:38.866987Z"
    }
   },
   "outputs": [],
   "source": [
    "def nodoOrigen_rule(Model, i):\n",
    "    if i == 4:\n",
    "        return sum(Model.d[i,j] for j in Model.I)==1\n",
    "    else:\n",
    "        return Constraint.Skip\n",
    "    \n",
    "Model.nodoOrigen = Constraint(Model.I, rule=nodoOrigen_rule)\n",
    "\n",
    "def nodoDestino_rule(Model, j):\n",
    "    if j==6:\n",
    "        return sum(Model.d[i,j] for i in Model.I)==1\n",
    "    else:\n",
    "        return Constraint.Skip\n",
    "\n",
    "Model.nodoDestino = Constraint(Model.I, rule=nodoDestino_rule)\n",
    "\n",
    "def nodoIntermedio_rule (Model, i):\n",
    "    if i!=4 and i!=6:\n",
    "        return sum(Model.d[i,j] for j in Model.I) - sum(Model.d[j,i] for j in Model.I)==0\n",
    "    else:\n",
    "        return Constraint.Skip\n",
    "    \n",
    "Model.nodoIntermedio = Constraint(Model.I, rule=nodoIntermedio_rule)"
   ]
  },
  {
   "cell_type": "markdown",
   "id": "e171ded6",
   "metadata": {},
   "source": [
    "## Solución"
   ]
  },
  {
   "cell_type": "code",
   "execution_count": 7,
   "id": "cc9c36ad",
   "metadata": {
    "ExecuteTime": {
     "end_time": "2022-04-07T05:28:38.927250Z",
     "start_time": "2022-04-07T05:28:38.872308Z"
    }
   },
   "outputs": [
    {
     "name": "stdout",
     "output_type": "stream",
     "text": [
      "Model unknown\n",
      "\n",
      "  Variables:\n",
      "    d : Size=49, Index=d_index\n",
      "        Key    : Lower : Value : Upper : Fixed : Stale : Domain\n",
      "        (1, 1) :     0 :   0.0 :  None : False : False : NonNegativeReals\n",
      "        (1, 2) :     0 :   0.0 :  None : False : False : NonNegativeReals\n",
      "        (1, 3) :     0 :   0.0 :  None : False : False : NonNegativeReals\n",
      "        (1, 4) :     0 :   0.0 :  None : False : False : NonNegativeReals\n",
      "        (1, 5) :     0 :   0.0 :  None : False : False : NonNegativeReals\n",
      "        (1, 6) :     0 :   0.0 :  None : False : False : NonNegativeReals\n",
      "        (1, 7) :     0 :   0.0 :  None : False : False : NonNegativeReals\n",
      "        (2, 1) :     0 :   0.0 :  None : False : False : NonNegativeReals\n",
      "        (2, 2) :     0 :   0.0 :  None : False : False : NonNegativeReals\n",
      "        (2, 3) :     0 :   0.0 :  None : False : False : NonNegativeReals\n",
      "        (2, 4) :     0 :   0.0 :  None : False : False : NonNegativeReals\n",
      "        (2, 5) :     0 :   0.0 :  None : False : False : NonNegativeReals\n",
      "        (2, 6) :     0 :   0.0 :  None : False : False : NonNegativeReals\n",
      "        (2, 7) :     0 :   0.0 :  None : False : False : NonNegativeReals\n",
      "        (3, 1) :     0 :   0.0 :  None : False : False : NonNegativeReals\n",
      "        (3, 2) :     0 :   0.0 :  None : False : False : NonNegativeReals\n",
      "        (3, 3) :     0 :   0.0 :  None : False : False : NonNegativeReals\n",
      "        (3, 4) :     0 :   0.0 :  None : False : False : NonNegativeReals\n",
      "        (3, 5) :     0 :   0.0 :  None : False : False : NonNegativeReals\n",
      "        (3, 6) :     0 :   0.0 :  None : False : False : NonNegativeReals\n",
      "        (3, 7) :     0 :   0.0 :  None : False : False : NonNegativeReals\n",
      "        (4, 1) :     0 :   0.0 :  None : False : False : NonNegativeReals\n",
      "        (4, 2) :     0 :   0.0 :  None : False : False : NonNegativeReals\n",
      "        (4, 3) :     0 :   0.0 :  None : False : False : NonNegativeReals\n",
      "        (4, 4) :     0 :   0.0 :  None : False : False : NonNegativeReals\n",
      "        (4, 5) :     0 :   0.0 :  None : False : False : NonNegativeReals\n",
      "        (4, 6) :     0 :   0.0 :  None : False : False : NonNegativeReals\n",
      "        (4, 7) :     0 :   1.0 :  None : False : False : NonNegativeReals\n",
      "        (5, 1) :     0 :   0.0 :  None : False : False : NonNegativeReals\n",
      "        (5, 2) :     0 :   0.0 :  None : False : False : NonNegativeReals\n",
      "        (5, 3) :     0 :   0.0 :  None : False : False : NonNegativeReals\n",
      "        (5, 4) :     0 :   0.0 :  None : False : False : NonNegativeReals\n",
      "        (5, 5) :     0 :   0.0 :  None : False : False : NonNegativeReals\n",
      "        (5, 6) :     0 :   0.0 :  None : False : False : NonNegativeReals\n",
      "        (5, 7) :     0 :   0.0 :  None : False : False : NonNegativeReals\n",
      "        (6, 1) :     0 :   0.0 :  None : False : False : NonNegativeReals\n",
      "        (6, 2) :     0 :   0.0 :  None : False : False : NonNegativeReals\n",
      "        (6, 3) :     0 :   0.0 :  None : False : False : NonNegativeReals\n",
      "        (6, 4) :     0 :   0.0 :  None : False : False : NonNegativeReals\n",
      "        (6, 5) :     0 :   0.0 :  None : False : False : NonNegativeReals\n",
      "        (6, 6) :     0 :   0.0 :  None : False : False : NonNegativeReals\n",
      "        (6, 7) :     0 :   0.0 :  None : False : False : NonNegativeReals\n",
      "        (7, 1) :     0 :   0.0 :  None : False : False : NonNegativeReals\n",
      "        (7, 2) :     0 :   0.0 :  None : False : False : NonNegativeReals\n",
      "        (7, 3) :     0 :   0.0 :  None : False : False : NonNegativeReals\n",
      "        (7, 4) :     0 :   0.0 :  None : False : False : NonNegativeReals\n",
      "        (7, 5) :     0 :   0.0 :  None : False : False : NonNegativeReals\n",
      "        (7, 6) :     0 :   1.0 :  None : False : False : NonNegativeReals\n",
      "        (7, 7) :     0 :   0.0 :  None : False : False : NonNegativeReals\n",
      "\n",
      "  Objectives:\n",
      "    obj : Size=1, Index=None, Active=True\n",
      "        Key  : Active : Value\n",
      "        None :   True : 35.057\n",
      "\n",
      "  Constraints:\n",
      "    nodoOrigen : Size=1\n",
      "        Key : Lower : Body : Upper\n",
      "          4 :   1.0 :  1.0 :   1.0\n",
      "    nodoDestino : Size=1\n",
      "        Key : Lower : Body : Upper\n",
      "          6 :   1.0 :  1.0 :   1.0\n",
      "    nodoIntermedio : Size=5\n",
      "        Key : Lower : Body : Upper\n",
      "          1 :   0.0 :  0.0 :   0.0\n",
      "          2 :   0.0 :  0.0 :   0.0\n",
      "          3 :   0.0 :  0.0 :   0.0\n",
      "          5 :   0.0 :  0.0 :   0.0\n",
      "          7 :   0.0 :  0.0 :   0.0\n"
     ]
    }
   ],
   "source": [
    "SolverFactory('glpk').solve(Model)\n",
    "Model.display()"
   ]
  },
  {
   "cell_type": "markdown",
   "id": "970144dc",
   "metadata": {},
   "source": [
    "Se llega entonces a que la mejor solución es realizar el camino **4 -> 7 -> 6**. Este tiene un costo de ***35.057***. Es la forma menos costosa de ir de 4 a 6. "
   ]
  },
  {
   "cell_type": "code",
   "execution_count": null,
   "id": "9efed752",
   "metadata": {},
   "outputs": [],
   "source": []
  }
 ],
 "metadata": {
  "kernelspec": {
   "display_name": "Python 3 (ipykernel)",
   "language": "python",
   "name": "python3"
  },
  "language_info": {
   "codemirror_mode": {
    "name": "ipython",
    "version": 3
   },
   "file_extension": ".py",
   "mimetype": "text/x-python",
   "name": "python",
   "nbconvert_exporter": "python",
   "pygments_lexer": "ipython3",
   "version": "3.9.7"
  },
  "toc": {
   "base_numbering": 1,
   "nav_menu": {},
   "number_sections": true,
   "sideBar": true,
   "skip_h1_title": false,
   "title_cell": "Table of Contents",
   "title_sidebar": "Contents",
   "toc_cell": false,
   "toc_position": {},
   "toc_section_display": true,
   "toc_window_display": false
  }
 },
 "nbformat": 4,
 "nbformat_minor": 5
}
